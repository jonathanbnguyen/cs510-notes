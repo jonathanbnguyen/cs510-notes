{
 "cells": [
  {
   "cell_type": "markdown",
   "id": "ba7a3f4d",
   "metadata": {},
   "source": [
    "### Week 3 - January 30th - Febuary 3rd\n",
    "\n",
    "\n"
   ]
  },
  {
   "cell_type": "markdown",
   "id": "346de585",
   "metadata": {},
   "source": [
    "#### Tuesday 1/31 - Class Notes\n",
    "\n",
    "##### Ambiguity, Associativity, and Precedence\n",
    "\n",
    "Section: 6.4-6.5\n",
    "\n",
    "\n",
    "---"
   ]
  },
  {
   "cell_type": "markdown",
   "id": "a4b95db2",
   "metadata": {},
   "source": [
    "#### Thursday 2/2 - Class Notes\n",
    "\n",
    "\n",
    "\n",
    "---"
   ]
  },
  {
   "cell_type": "markdown",
   "id": "8b93016a",
   "metadata": {},
   "source": [
    "### Week 3 Todos: \n"
   ]
  },
  {
   "cell_type": "markdown",
   "id": "2b955542",
   "metadata": {},
   "source": [
    "1. Item1\n",
    "2. Item2\n",
    "3. Item3\n",
    "4. Item4\n",
    "\n"
   ]
  },
  {
   "cell_type": "markdown",
   "id": "71e79fde",
   "metadata": {},
   "source": [
    "---\n",
    "Class Notes."
   ]
  },
  {
   "cell_type": "code",
   "execution_count": null,
   "id": "914da11f",
   "metadata": {},
   "outputs": [],
   "source": []
  }
 ],
 "metadata": {
  "kernelspec": {
   "display_name": "Python 3 (ipykernel)",
   "language": "python",
   "name": "python3"
  },
  "language_info": {
   "codemirror_mode": {
    "name": "ipython",
    "version": 3
   },
   "file_extension": ".py",
   "mimetype": "text/x-python",
   "name": "python",
   "nbconvert_exporter": "python",
   "pygments_lexer": "ipython3",
   "version": "3.10.9"
  }
 },
 "nbformat": 4,
 "nbformat_minor": 5
}
